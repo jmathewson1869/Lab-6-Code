{
 "cells": [
  {
   "cell_type": "markdown",
   "id": "c96e9a30",
   "metadata": {},
   "source": [
    "# Rule 1"
   ]
  },
  {
   "cell_type": "markdown",
   "id": "e207df44",
   "metadata": {},
   "source": [
    "$ \\delta Q = c \\delta A $"
   ]
  },
  {
   "cell_type": "code",
   "execution_count": 26,
   "id": "9172d6b4",
   "metadata": {},
   "outputs": [
    {
     "name": "stdout",
     "output_type": "stream",
     "text": [
      "0.2\n"
     ]
    }
   ],
   "source": [
    "import numpy as np\n",
    "def rule1(c,dA):\n",
    "    dQ = c*dA\n",
    "    return dQ\n",
    "#test for rule 1\n",
    "c = 4\n",
    "dA = 0.05\n",
    "dx1 = rule1(c,dA)\n",
    "print (dx1)"
   ]
  },
  {
   "cell_type": "markdown",
   "id": "6ef91df7",
   "metadata": {},
   "source": [
    "# Rule 2"
   ]
  },
  {
   "cell_type": "markdown",
   "id": "3d785835",
   "metadata": {},
   "source": [
    "$ \\delta Q = cmA^{m-1} \\delta A $"
   ]
  },
  {
   "cell_type": "code",
   "execution_count": 27,
   "id": "6d7afea1",
   "metadata": {},
   "outputs": [
    {
     "name": "stdout",
     "output_type": "stream",
     "text": [
      "8.0\n"
     ]
    }
   ],
   "source": [
    "def rule2 (c,m,A,dA):\n",
    "    dQ = c*m*(A**(m-1))*dA\n",
    "    return dQ\n",
    "\n",
    "#test for rule 2\n",
    "c = 4\n",
    "m = 2\n",
    "A = 5\n",
    "dA = 0.2\n",
    "\n",
    "dx1 = rule2(c,m,A,dA)\n",
    "print (dx1)"
   ]
  },
  {
   "cell_type": "markdown",
   "id": "e64c0add",
   "metadata": {},
   "source": [
    "# Rule 3"
   ]
  },
  {
   "cell_type": "markdown",
   "id": "c15e0453",
   "metadata": {},
   "source": [
    "$ \\delta Q = \\sqrt {(\\delta A)^2+(\\delta B)^2} $"
   ]
  },
  {
   "cell_type": "code",
   "execution_count": 28,
   "id": "103c4393",
   "metadata": {},
   "outputs": [
    {
     "name": "stdout",
     "output_type": "stream",
     "text": [
      "0.07810249675906655\n"
     ]
    }
   ],
   "source": [
    "def rule3 (dA,dB):\n",
    "    dQ = np.sqrt((dA)**2+(dB)**2)\n",
    "    return dQ\n",
    "\n",
    "#test for rule 3\n",
    "dA = 0.05\n",
    "dB = 0.06\n",
    "\n",
    "dx1 = rule3(dA,dB)\n",
    "print (dx1)"
   ]
  },
  {
   "cell_type": "markdown",
   "id": "851d2454",
   "metadata": {},
   "source": [
    "# Rule 4"
   ]
  },
  {
   "cell_type": "markdown",
   "id": "a5ac5608",
   "metadata": {},
   "source": [
    "$ \\frac {\\delta Q}{Q} = \\sqrt {(\\frac {m \\delta A}{A})^2+(\\frac {n \\delta B}{B})^2} $"
   ]
  },
  {
   "cell_type": "code",
   "execution_count": 29,
   "id": "3d380528",
   "metadata": {},
   "outputs": [
    {
     "name": "stdout",
     "output_type": "stream",
     "text": [
      "0.0233238075793812\n"
     ]
    }
   ],
   "source": [
    "def rule4 (m,n,dA,dB,A,B):\n",
    "    dQ = np.sqrt(((m*dA)/A)**2+((n*dB)/B)**2)\n",
    "    return dQ\n",
    "\n",
    "#test for rule 4\n",
    "m = 2\n",
    "n = 3\n",
    "dA = 0.03\n",
    "dB = 0.04\n",
    "A = 5\n",
    "B = 6\n",
    "\n",
    "dx1 = rule4(m,n,dA,dB,A,B)\n",
    "print (dx1)"
   ]
  },
  {
   "cell_type": "markdown",
   "id": "1dec529a",
   "metadata": {},
   "source": [
    "# Recalculating Error in Vi for Method 2"
   ]
  },
  {
   "cell_type": "code",
   "execution_count": 30,
   "id": "d925256e",
   "metadata": {},
   "outputs": [
    {
     "name": "stdout",
     "output_type": "stream",
     "text": [
      "0.0032959794837097087\n"
     ]
    }
   ],
   "source": [
    "def rule4 (m,n,dA,dB,A,B):\n",
    "    dQ = np.sqrt((((m*dA)/A)**2)+(((n*dB)/B)**2))\n",
    "    return dQ\n",
    "\n",
    "#test for rule 4\n",
    "m = 1\n",
    "n = 1\n",
    "dA = 0.0005\n",
    "dB = 0.00696\n",
    "A = 0.99\n",
    "B = 2.1369\n",
    "\n",
    "dx1 = rule4(m,n,dA,dB,A,B)\n",
    "print (dx1)"
   ]
  },
  {
   "cell_type": "markdown",
   "id": "1027cff6",
   "metadata": {},
   "source": [
    "# Python for Calculations"
   ]
  },
  {
   "cell_type": "code",
   "execution_count": 31,
   "id": "c4f40c8c",
   "metadata": {},
   "outputs": [
    {
     "name": "stdout",
     "output_type": "stream",
     "text": [
      "1.1166666666666667 0.073282810879294\n"
     ]
    }
   ],
   "source": [
    "x = np.array ([1.1,1.3,1.4,0.9,0.95,1.05])\n",
    "\n",
    "avg_x = np.average(x)\n",
    "err_x = np.std(x)/np.sqrt(6)\n",
    "print (avg_x,err_x)"
   ]
  },
  {
   "cell_type": "markdown",
   "id": "d0f45825",
   "metadata": {},
   "source": [
    "The average of the results was 1.11, and the error in that average was 0.07."
   ]
  },
  {
   "cell_type": "markdown",
   "id": "7f1e0b82",
   "metadata": {},
   "source": [
    "# Equation for Error in Vi for Method 2"
   ]
  },
  {
   "cell_type": "markdown",
   "id": "3ae4d3e6",
   "metadata": {},
   "source": [
    "$ \\frac {\\delta vi}{vi} = \\sqrt {(\\frac {\\delta x}{x})^2+(\\frac {\\delta y}{y})^2} $"
   ]
  }
 ],
 "metadata": {
  "kernelspec": {
   "display_name": "Python 3 (ipykernel)",
   "language": "python",
   "name": "python3"
  },
  "language_info": {
   "codemirror_mode": {
    "name": "ipython",
    "version": 3
   },
   "file_extension": ".py",
   "mimetype": "text/x-python",
   "name": "python",
   "nbconvert_exporter": "python",
   "pygments_lexer": "ipython3",
   "version": "3.9.12"
  }
 },
 "nbformat": 4,
 "nbformat_minor": 5
}
